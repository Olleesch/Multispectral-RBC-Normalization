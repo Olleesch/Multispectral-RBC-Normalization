{
 "cells": [
  {
   "cell_type": "markdown",
   "metadata": {},
   "source": [
    "# Method Comparison for RBC Intensity Magnitude Surface Estimation\n",
    "\n",
    "This notebook contains code to compare implemented methods for red blood cell intensity magnitude surface estimation, the final step of the normalization process. "
   ]
  },
  {
   "cell_type": "markdown",
   "metadata": {},
   "source": [
    "### Imports"
   ]
  },
  {
   "cell_type": "code",
   "execution_count": null,
   "metadata": {},
   "outputs": [],
   "source": [
    "import os\n",
    "import torch\n",
    "import random\n",
    "import numpy as np\n",
    "import matplotlib.pyplot as plt\n",
    "\n",
    "from pathlib import Path\n",
    "from dotenv import load_dotenv\n",
    "from cellpose import models\n",
    "\n",
    "from utils.data import Dataset\n",
    "from utils.surface_estimation import get_masks, fit_polynomial_background, fit_rbc_surface\n",
    "from utils.component_analysis import SamplePCA"
   ]
  },
  {
   "cell_type": "markdown",
   "metadata": {},
   "source": [
    "### Load Dataset and Select a Random Sample\n",
    "\n",
    "Load data by creating a dataset. Specify file paths either by creating a .env file as described by README.md or manually writing the paths to the dataset folders. "
   ]
  },
  {
   "cell_type": "code",
   "execution_count": null,
   "metadata": {},
   "outputs": [],
   "source": [
    "def load_dataset_paths():\n",
    "    \"\"\" Get dataset paths from .env file \"\"\"\n",
    "    load_dotenv()\n",
    "    dataset_paths = []\n",
    "\n",
    "    # Loop through environment variables and collect dataset paths\n",
    "    for key, value in os.environ.items():\n",
    "        if key.startswith(\"DATASET_PATH_\"):  # Look for keys starting with \"DATASET_PATH_\"\n",
    "            dataset_paths.append(Path(value.strip(\"'\")))\n",
    "\n",
    "    return dataset_paths\n",
    "\n",
    "\n",
    "# Parameter to write out details during processing\n",
    "verbose = True\n",
    "\n",
    "# Get dataset paths from .env file\n",
    "dataset_paths = load_dataset_paths()\n",
    "\n",
    "# Alternatively, manually write the correct paths in the following line: \n",
    "# dataset_paths = [Path('C:/.../toy1/'), Path('C:/.../toy2/')]\n",
    "\n",
    "# Create dataset\n",
    "dataset = Dataset(dataset_paths)\n",
    "\n",
    "# Define segmentation model (here a pre-trained CellPose model)\n",
    "segmentation_model = models.Cellpose(model_type='cyto3', gpu=torch.cuda.is_available())\n",
    "\n",
    "# Get sample from dataset\n",
    "idx = random.randint(0, len(dataset))\n",
    "print(idx)\n",
    "data = dataset[idx]\n",
    "sample = data[\"sample\"]"
   ]
  },
  {
   "cell_type": "markdown",
   "metadata": {},
   "source": [
    "Help function to plot principal components of results."
   ]
  },
  {
   "cell_type": "code",
   "execution_count": null,
   "metadata": {},
   "outputs": [],
   "source": [
    "def plot_example(sample, title):\n",
    "    def get_principal_components(sample):\n",
    "        \"\"\" Help function to compute and scale principal components. \"\"\"\n",
    "        pca = SamplePCA(n_components=3)\n",
    "        pca.fit(sample)\n",
    "        sample_principal = pca.transform(sample)[0]\n",
    "\n",
    "        principal_image_R = sample_principal[0]\n",
    "        principal_image_S = sample_principal[1]\n",
    "        principal_image_T = sample_principal[2]\n",
    "\n",
    "        # Rescale to range [0,1]\n",
    "        min_R = np.min(principal_image_R, (1,2))\n",
    "        max_R = np.max(principal_image_R, (1,2))\n",
    "        principal_image_R = (principal_image_R - min_R[:, None, None]) / (max_R - min_R)[:, None, None]\n",
    "        min_S = np.min(principal_image_S, (1,2))\n",
    "        max_S = np.max(principal_image_S, (1,2))\n",
    "        principal_image_S = (principal_image_S - min_S[:, None, None]) / (max_S - min_S)[:, None, None]\n",
    "        min_T = np.min(principal_image_T, (1,2))\n",
    "        max_T = np.max(principal_image_T, (1,2))\n",
    "        principal_image_T = (principal_image_T - min_T[:, None, None]) / (max_T - min_T)[:, None, None]\n",
    "\n",
    "        return principal_image_R, principal_image_S, principal_image_T\n",
    "\n",
    "    fig, axs = plt.subplots(1, 3, figsize=(15, 5))\n",
    "    principal_image_R, principal_image_S, principal_image_T = get_principal_components(sample)\n",
    "    axs[0].imshow(principal_image_R.transpose(1, 2, 0))\n",
    "    axs[1].imshow(principal_image_S.transpose(1, 2, 0))\n",
    "    axs[2].imshow(principal_image_T.transpose(1, 2, 0))\n",
    "    axs[0].set_title(\"Reflected Principal Components\")\n",
    "    axs[1].set_title(\"Scattered Principal Components\")\n",
    "    axs[2].set_title(\"Transmitted Principal Components\")\n",
    "    for ax in axs:\n",
    "        ax.axis(False)\n",
    "    plt.suptitle(title, fontsize=24)\n",
    "    plt.tight_layout()\n",
    "    plt.show()"
   ]
  },
  {
   "cell_type": "markdown",
   "metadata": {},
   "source": [
    "## Run Normalization Pipeline\n",
    "\n",
    "Run the steps of the normalization pipeline (binary mask construction, background correction, RBC surface estimation) and compare the results by the different methods for the last step. \n",
    "\n",
    "### Binary mask construction"
   ]
  },
  {
   "cell_type": "code",
   "execution_count": null,
   "metadata": {},
   "outputs": [],
   "source": [
    "background_mask, cell_mask = get_masks(sample, segmentation_model, plot=False, verbose=verbose)"
   ]
  },
  {
   "cell_type": "markdown",
   "metadata": {},
   "source": [
    "### Background Correction"
   ]
  },
  {
   "cell_type": "code",
   "execution_count": null,
   "metadata": {},
   "outputs": [],
   "source": [
    "bc_sample, _ = fit_polynomial_background(sample, background_mask, verbose=verbose)"
   ]
  },
  {
   "cell_type": "markdown",
   "metadata": {},
   "source": [
    "### Linear Interpolation RBC Surface"
   ]
  },
  {
   "cell_type": "code",
   "execution_count": null,
   "metadata": {},
   "outputs": [],
   "source": [
    "norm_sample_linear, rbc_surface_linear = fit_rbc_surface(bc_sample, cell_mask, method=\"linear\", verbose=verbose)"
   ]
  },
  {
   "cell_type": "markdown",
   "metadata": {},
   "source": [
    "### Cubic Bivariate Spline RBC Surface"
   ]
  },
  {
   "cell_type": "code",
   "execution_count": null,
   "metadata": {},
   "outputs": [],
   "source": [
    "norm_sample_bsplines, rbc_surface_bsplines = fit_rbc_surface(bc_sample, cell_mask, method=\"b-spline\", verbose=verbose)"
   ]
  },
  {
   "cell_type": "markdown",
   "metadata": {},
   "source": [
    "### Gaussian Process Regression RBC Surface"
   ]
  },
  {
   "cell_type": "code",
   "execution_count": null,
   "metadata": {},
   "outputs": [],
   "source": [
    "norm_sample_gpr, rbc_surface_gpr = fit_rbc_surface(bc_sample, cell_mask, method=\"gpr\", verbose=verbose)"
   ]
  },
  {
   "cell_type": "markdown",
   "metadata": {},
   "source": [
    "Visualize the normalized sample and estimated RBC surface by the different methods for comparison"
   ]
  },
  {
   "cell_type": "code",
   "execution_count": null,
   "metadata": {},
   "outputs": [],
   "source": [
    "plot_example(norm_sample_linear, \"Normalized Sample Linear\")\n",
    "plot_example(rbc_surface_linear, \"RBC Surface Linear\")\n",
    "\n",
    "plot_example(norm_sample_bsplines, \"Normalized Sample B-Spline\")\n",
    "plot_example(rbc_surface_bsplines, \"RBC Surface B-Spline\")\n",
    "\n",
    "plot_example(norm_sample_gpr, \"Normalized Sample GPR\")\n",
    "plot_example(rbc_surface_gpr, \"RBC Surface GPR\")"
   ]
  },
  {
   "cell_type": "markdown",
   "metadata": {},
   "source": [
    "Visualize a detailed view of the results (method comparison) for an example channel of the sample. "
   ]
  },
  {
   "cell_type": "code",
   "execution_count": null,
   "metadata": {},
   "outputs": [],
   "source": [
    "modality_idx = 0\n",
    "channel_idx = 1\n",
    "example_channel = sample[modality_idx, channel_idx]\n",
    "H, W = example_channel.shape\n",
    "x = np.arange(W)\n",
    "y = np.arange(H)\n",
    "x, y = np.meshgrid(x, y)\n",
    "\n",
    "aspect_ratio = [1, H/W, 0.5]\n",
    "fontsize_ticks = 8\n",
    "fontsize_axislabels = 9\n",
    "fontsize_titles = 12\n",
    "\n",
    "fig = plt.figure(figsize=(10, 13))\n",
    "ax = fig.add_subplot(321, projection='3d')\n",
    "ax.plot_surface(x, y, rbc_surface_linear[modality_idx, channel_idx], cmap='gray', edgecolor='none')\n",
    "ax.text2D(1.3, 1, 'Linear Interpolation', transform=ax.transAxes, ha='center', fontsize=fontsize_titles)\n",
    "ax.set_xlabel('x', fontsize=fontsize_axislabels, labelpad=0)\n",
    "ax.set_xlim(0, W-1)\n",
    "ax.set_ylabel('y', fontsize=fontsize_axislabels, labelpad=0)\n",
    "ax.set_ylim(H-1, 0)\n",
    "ax.text2D(1.05, 0.73, 'intensity', transform=ax.transAxes, ha='center', va='bottom', rotation=0, fontsize=fontsize_axislabels)\n",
    "ax.set_zlim([0, 1])\n",
    "ax.tick_params(axis='both', which='major', labelsize=fontsize_ticks, pad=0)\n",
    "ax.set_box_aspect(aspect_ratio)\n",
    "\n",
    "ax = fig.add_subplot(322)\n",
    "ax.imshow(rbc_surface_linear[modality_idx, channel_idx], cmap=\"gray\")\n",
    "ax.axis(False)\n",
    "\n",
    "ax = fig.add_subplot(323, projection='3d')\n",
    "ax.plot_surface(x, y, rbc_surface_bsplines[modality_idx, channel_idx], cmap='gray', edgecolor='none')\n",
    "ax.text2D(1.3, 1, 'Cubic Bivariate Spline', transform=ax.transAxes, ha='center', fontsize=fontsize_titles)\n",
    "ax.set_xlabel('x', fontsize=fontsize_axislabels, labelpad=0)\n",
    "ax.set_xlim(0, W-1)\n",
    "ax.set_ylabel('y', fontsize=fontsize_axislabels, labelpad=0)\n",
    "ax.set_ylim(H-1, 0)\n",
    "ax.text2D(1.05, 0.73, 'intensity', transform=ax.transAxes, ha='center', va='bottom', rotation=0, fontsize=fontsize_axislabels)\n",
    "ax.set_zlim([0, 1])\n",
    "ax.tick_params(axis='both', which='major', labelsize=fontsize_ticks, pad=0)\n",
    "ax.set_box_aspect(aspect_ratio)\n",
    "\n",
    "ax = fig.add_subplot(324)\n",
    "ax.imshow(rbc_surface_bsplines[modality_idx, channel_idx], cmap=\"gray\")\n",
    "ax.axis(False)\n",
    "\n",
    "ax = fig.add_subplot(325, projection='3d')\n",
    "ax.plot_surface(x, y, rbc_surface_gpr[modality_idx, channel_idx], cmap='gray', edgecolor='none')\n",
    "ax.text2D(1.3, 1, 'Gaussian Process Regression', transform=ax.transAxes, ha='center', fontsize=fontsize_titles)\n",
    "ax.set_xlabel('x', fontsize=fontsize_axislabels, labelpad=0)\n",
    "ax.set_xlim(0, W-1)\n",
    "ax.set_ylabel('y', fontsize=fontsize_axislabels, labelpad=0)\n",
    "ax.set_ylim(H-1, 0)\n",
    "ax.text2D(1.05, 0.73, 'intensity', transform=ax.transAxes, ha='center', va='bottom', rotation=0, fontsize=fontsize_axislabels)\n",
    "ax.set_zlim([0, 1])\n",
    "ax.tick_params(axis='both', which='major', labelsize=fontsize_ticks, pad=0)\n",
    "ax.set_box_aspect(aspect_ratio)\n",
    "\n",
    "ax = fig.add_subplot(326)\n",
    "ax.imshow(rbc_surface_gpr[modality_idx, channel_idx], cmap=\"gray\")\n",
    "ax.axis(False)"
   ]
  }
 ],
 "metadata": {
  "kernelspec": {
   "display_name": "test",
   "language": "python",
   "name": "python3"
  },
  "language_info": {
   "codemirror_mode": {
    "name": "ipython",
    "version": 3
   },
   "file_extension": ".py",
   "mimetype": "text/x-python",
   "name": "python",
   "nbconvert_exporter": "python",
   "pygments_lexer": "ipython3",
   "version": "3.11.11"
  }
 },
 "nbformat": 4,
 "nbformat_minor": 2
}
